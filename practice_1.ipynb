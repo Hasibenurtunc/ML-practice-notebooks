{
 "cells": [
  {
   "cell_type": "markdown",
   "metadata": {
    "id": "35yBzkuRtqWA"
   },
   "source": [
    "## 📊 Veri Seti Hakkında:\n",
    "Titanic veri seti, 1912'de batan Titanic gemisindeki yolcular hakkında bilgi içerir.\n",
    "\n",
    "**Sütun Açıklamaları:**\n",
    "- `survived`: Hayatta kalma durumu (0 = Hayır, 1 = Evet)\n",
    "- `pclass`: Yolcu sınıfı (1 = 1. sınıf, 2 = 2. sınıf, 3 = 3. sınıf)\n",
    "- `sex`: Cinsiyet\n",
    "- `age`: Yaş\n",
    "- `sibsp`: Gemide bulunan kardeş/eş sayısı\n",
    "- `parch`: Gemide bulunan ebeveyn/çocuk sayısı\n",
    "- `ticket`: Bilet numarası\n",
    "- `fare`: Bilet ücreti\n",
    "- `cabin`: Kabin numarası\n",
    "- `embarked`: Bindiği liman (C = Cherbourg, Q = Queenstown, S = Southampton)"
   ]
  },
  {
   "cell_type": "code",
   "execution_count": null,
   "metadata": {
    "id": "MvaNT3oJXlC-"
   },
   "outputs": [],
   "source": [
    "import pandas as pd\n",
    "\n",
    "df = pd.read_csv(\"https://raw.githubusercontent.com/datasciencedojo/datasets/master/titanic.csv\")"
   ]
  },
  {
   "cell_type": "markdown",
   "metadata": {
    "id": "Xk0QLfvhtqWF"
   },
   "source": [
    "### Soru 1: Veri setinde kaç satır ve kaç sütun olduğunu bulun."
   ]
  },
  {
   "cell_type": "code",
   "execution_count": null,
   "metadata": {
    "id": "062RrTBGtqWG"
   },
   "outputs": [],
   "source": [
    "df.shape "
   ]
  },
  {
   "cell_type": "markdown",
   "metadata": {
    "id": "I2AojOdztqWH"
   },
   "source": [
    "### Soru 2: Tüm sütun isimlerini yazdırın."
   ]
  },
  {
   "cell_type": "code",
   "execution_count": null,
   "metadata": {
    "id": "erY2kkBGtqWH"
   },
   "outputs": [],
   "source": [
    "df.columns\n"
   ]
  },
  {
   "cell_type": "markdown",
   "metadata": {
    "id": "vc-FJeG3tqWI"
   },
   "source": [
    "### Soru 3: Yaş ortalamasını ve medyanını hesaplayın."
   ]
  },
  {
   "cell_type": "code",
   "execution_count": null,
   "metadata": {
    "executionInfo": {
     "elapsed": 13,
     "status": "ok",
     "timestamp": 1750777236352,
     "user": {
      "displayName": "Seyit Ali ÇEVİK",
      "userId": "15936302476608952778"
     },
     "user_tz": -180
    },
    "id": "97xKbrPBtqWI"
   },
   "outputs": [],
   "source": [
    "df[\"Age\"].agg([\"mean\",\"median\"])\n"
   ]
  },
  {
   "cell_type": "markdown",
   "metadata": {
    "id": "y06IIbv7tqWJ"
   },
   "source": [
    "### Soru 4: Cinsiyet değişkenindeki eşsiz değerleri yazdırın."
   ]
  },
  {
   "cell_type": "code",
   "execution_count": null,
   "metadata": {
    "id": "T_XyXtF5tqWJ"
   },
   "outputs": [],
   "source": [
    "df['Sex'].unique() \n"
   ]
  },
  {
   "cell_type": "markdown",
   "metadata": {
    "id": "7QgdBU6vtqWJ"
   },
   "source": [
    "### Soru 5: `pclass` değişkenindeki değerlerin yüzdesel dağılımını yazdırın."
   ]
  },
  {
   "cell_type": "code",
   "execution_count": null,
   "metadata": {
    "id": "Eqh6pJ0KtqWK"
   },
   "outputs": [],
   "source": [
    "df[\"Pclass\"].value_counts(normalize=True)\n"
   ]
  },
  {
   "cell_type": "markdown",
   "metadata": {
    "id": "XcdTwueutqWK"
   },
   "source": [
    "### Soru 6: Yaşı 30'dan büyük kadın yolcuları listeleyin."
   ]
  },
  {
   "cell_type": "code",
   "execution_count": null,
   "metadata": {
    "id": "xwyppQI0tqWK"
   },
   "outputs": [],
   "source": [
    "df[(df[\"Age\"] > 30) & (df[\"Sex\"] == \"female\")].head()\n"
   ]
  },
  {
   "cell_type": "markdown",
   "metadata": {
    "id": "UsUhqI3ztqWK"
   },
   "source": [
    "### Soru 7: Yaşı 18'den küçük olup 1. sınıfta yolculuk eden yolcuları listeleyin."
   ]
  },
  {
   "cell_type": "code",
   "execution_count": null,
   "metadata": {
    "id": "_W36XLqytqWL"
   },
   "outputs": [],
   "source": [
    "df[(df[\"Age\"] < 18) & (df[\"Pclass\"] == 1 )].head()\n"
   ]
  },
  {
   "cell_type": "markdown",
   "metadata": {
    "id": "jR2Dflo_tqWL"
   },
   "source": [
    "### Soru 8: İlk 10 gözlemden son 3'ünü gösterin."
   ]
  },
  {
   "cell_type": "code",
   "execution_count": null,
   "metadata": {
    "id": "UOjvhETCtqWL"
   },
   "outputs": [],
   "source": [
    "df.head(10).tail(3)"
   ]
  },
  {
   "cell_type": "markdown",
   "metadata": {
    "id": "bBBg86aJtqWM"
   },
   "source": [
    "### Soru 9: Bilet fiyatı (fare) 100'den büyük olan kaç kişi vardır?"
   ]
  },
  {
   "cell_type": "code",
   "execution_count": null,
   "metadata": {
    "id": "guuhp5SQtqWM"
   },
   "outputs": [],
   "source": [
    "df_x = df[(df[\"Fare\"] > 100)]\n",
    "len(df_x)\n"
   ]
  },
  {
   "cell_type": "markdown",
   "metadata": {
    "id": "3ju2uP2MtqWM"
   },
   "source": [
    "### Soru 10: `sex`, `age` ve `fare` sütunlarından oluşan yeni bir DataFrame oluşturun."
   ]
  },
  {
   "cell_type": "code",
   "execution_count": null,
   "metadata": {
    "id": "5tHYqe4BtqWM"
   },
   "outputs": [],
   "source": [
    "df_new = df[[\"Sex\",\"Age\",\"Fare\"]].copy()\n",
    "df_new.head()\n",
    "\n"
   ]
  },
  {
   "cell_type": "markdown",
   "metadata": {
    "id": "k0VUD7eLtqWN"
   },
   "source": [
    "### Soru 1: Cinsiyete göre yaş ortalamasını bulun."
   ]
  },
  {
   "cell_type": "code",
   "execution_count": null,
   "metadata": {
    "id": "JhxTvrpQtqWN"
   },
   "outputs": [],
   "source": [
    "df.groupby(\"Sex\")[\"Age\"].mean()\n",
    "\n"
   ]
  },
  {
   "cell_type": "markdown",
   "metadata": {
    "id": "23Hqz2oLtqWN"
   },
   "source": [
    "### Soru 2: Sınıfa göre hayatta kalan kişi sayısını bulun."
   ]
  },
  {
   "cell_type": "code",
   "execution_count": null,
   "metadata": {
    "id": "iDi7lTNmtqWN"
   },
   "outputs": [],
   "source": [
    "df_y = df.groupby(\"Pclass\")[\"Survived\"]\n",
    "len(df_y)"
   ]
  },
  {
   "cell_type": "markdown",
   "metadata": {
    "id": "9mukgiBQtqWN"
   },
   "source": [
    "### Soru 3: Hem cinsiyet hem sınıfa göre hayatta kalma oranlarını hesaplayın."
   ]
  },
  {
   "cell_type": "code",
   "execution_count": null,
   "metadata": {
    "id": "WR_bF7uutqWN"
   },
   "outputs": [],
   "source": [
    "df.groupby([\"Sex\", \"Pclass\"])[\"Survived\"].mean()"
   ]
  },
  {
   "cell_type": "markdown",
   "metadata": {
    "id": "CDi-M0GRtqWO"
   },
   "source": [
    "### Soru 4: Embarked değişkenine göre ortalama yaş ve ortalama ücret nedir?"
   ]
  },
  {
   "cell_type": "code",
   "execution_count": null,
   "metadata": {
    "id": "SWaNtUOItqWO"
   },
   "outputs": [],
   "source": [
    "df.groupby(\"Embarked\")[[\"Age\", \"Fare\"]].mean()\n"
   ]
  },
  {
   "cell_type": "markdown",
   "metadata": {
    "id": "g0zVnY6MtqWO"
   },
   "source": [
    "### Soru 5: Pclass gruplarına göre yaşın standart sapmasını bulun."
   ]
  },
  {
   "cell_type": "code",
   "execution_count": null,
   "metadata": {
    "id": "jo2RcVW5tqWO"
   },
   "outputs": [],
   "source": [
    "df.groupby(\"Pclass\")[\"Age\"].std()\n"
   ]
  },
  {
   "cell_type": "markdown",
   "metadata": {
    "id": "MTZYd9LJtqWO"
   },
   "source": [
    "### Soru 6: Her `Embarked` limanından kaç yolcu olduğunu ve bunların yüzdelik dağılımını yazdırın."
   ]
  },
  {
   "cell_type": "code",
   "execution_count": null,
   "metadata": {
    "id": "YTfxT0j1tqWO"
   },
   "outputs": [],
   "source": [
    "df[\"Embarked\"].value_counts()\n",
    "df[\"Embarked\"].value_counts(normalize=True)"
   ]
  },
  {
   "cell_type": "markdown",
   "metadata": {
    "id": "4FIr_3CitqWP"
   },
   "source": [
    "### Soru 7: Yaşı 60'tan büyük olanların hayatta kalma oranını bulun."
   ]
  },
  {
   "cell_type": "code",
   "execution_count": null,
   "metadata": {
    "id": "ma-OR5HFtqWP"
   },
   "outputs": [],
   "source": [
    "df_z = df[df[\"Age\"] > 60]\n",
    "df_s = df_z[\"Survived\"].mean()\n",
    "print(df_s)\n"
   ]
  },
  {
   "cell_type": "markdown",
   "metadata": {
    "id": "1t38XtRXtqWP"
   },
   "source": [
    "### Soru 8: `Sex`, `Pclass`, `Survived` için `groupby()` + `agg()` ile ortalama yaş ve ücret hesaplayın."
   ]
  },
  {
   "cell_type": "code",
   "execution_count": null,
   "metadata": {
    "id": "itaLerC8tqWP"
   },
   "outputs": [],
   "source": [
    "df.groupby(['Sex', 'Pclass', 'Survived']).agg({\n",
    "    'Age': 'mean',\n",
    "    'Fare': 'mean'\n",
    "})\n"
   ]
  },
  {
   "cell_type": "markdown",
   "metadata": {
    "id": "wOsjvK3BtqWU"
   },
   "source": [
    "### Soru 9: Age değişkenini artan düzende sıralayın ve ilk 10 kişiyi yazdırın."
   ]
  },
  {
   "cell_type": "code",
   "execution_count": null,
   "metadata": {
    "id": "p8S2dV4_tqWU"
   },
   "outputs": [],
   "source": [
    "df.sort_values(by=[\"Age\"]).head(10)\n"
   ]
  },
  {
   "cell_type": "markdown",
   "metadata": {
    "id": "gMZKwg3RtqWV"
   },
   "source": [
    "### Soru 1: En pahalı bileti alan kişinin yaşı, cinsiyeti ve sınıfı nedir?"
   ]
  },
  {
   "cell_type": "code",
   "execution_count": null,
   "metadata": {
    "id": "kGIwuPehtqWV"
   },
   "outputs": [],
   "source": [
    "df.loc[df['Fare'].idxmax(), [\"Age\", \"Sex\", \"Pclass\"]]"
   ]
  },
  {
   "cell_type": "markdown",
   "metadata": {
    "id": "oQQkWRGMtqWV"
   },
   "source": [
    "### Soru 2: Hayatta kalanlar ile ölenler arasında yaş ortalamaları farkı nedir?"
   ]
  },
  {
   "cell_type": "code",
   "execution_count": null,
   "metadata": {
    "id": "wkZoYG9GtqWV"
   },
   "outputs": [],
   "source": [
    "df_survive = df[df[\"Survived\"] == 1][\"Age\"].mean()\n",
    "df_dead = df[df[\"Survived\"] == 0][\"Age\"].mean()\n",
    "df_survive - df_dead"
   ]
  },
  {
   "cell_type": "markdown",
   "metadata": {
    "id": "HiVnYr-_tqWV"
   },
   "source": [
    "### Soru 3: Hangi `Pclass` grubunda kadınların hayatta kalma oranı en yüksektir?"
   ]
  },
  {
   "cell_type": "code",
   "execution_count": null,
   "metadata": {
    "id": "aqhZQf-StqWV"
   },
   "outputs": [],
   "source": [
    "df[df['Sex'] == 'female'].groupby('Pclass')['Survived'].mean()\n"
   ]
  },
  {
   "cell_type": "markdown",
   "metadata": {
    "id": "BgTznVUutqWW"
   },
   "source": [
    "### Soru 4: Ortalama yaşın altında olan ve hayatta kalan erkeklerin sayısı kaçtır?"
   ]
  },
  {
   "cell_type": "code",
   "execution_count": null,
   "metadata": {
    "id": "OR1gzLFQtqWW"
   },
   "outputs": [],
   "source": [
    "df_avgAge = df[\"Age\"].mean()\n",
    "df_Q = (df[\"Sex\"] == 'male') & (df[\"Survived\"] == 1) & (df[\"Age\"] < df_avgAge)\n",
    "len(df[df_Q])"
   ]
  },
  {
   "cell_type": "markdown",
   "metadata": {
    "id": "Dmjz5eCKtqWW"
   },
   "source": [
    "### Soru 5: `Cabin` değeri eksik olmayanların yaş ortalaması ile eksik olanların yaş ortalaması arasında fark var mı?"
   ]
  },
  {
   "cell_type": "code",
   "execution_count": null,
   "metadata": {
    "id": "HO2NdZsktqWW"
   },
   "outputs": [],
   "source": [
    "df_1 = df[df[\"Cabin\"].notnull()][\"Age\"].mean()\n",
    "df_2 = df[df[\"Cabin\"].isnull()][\"Age\"].mean()\n",
    "df_1 - df_2\n"
   ]
  },
  {
   "cell_type": "markdown",
   "metadata": {
    "id": "sD9aIWJAtqWW"
   },
   "source": [
    "### Soru 6: `.describe()` çıktısına göre çarpıklık var mı? Hangi değişkenlerde?"
   ]
  },
  {
   "cell_type": "code",
   "execution_count": null,
   "metadata": {
    "id": "AqgiYrdDtqWX"
   },
   "outputs": [],
   "source": [
    "df.describe()\n",
    "df.skew(numeric_only=True)"
   ]
  },
  {
   "cell_type": "markdown",
   "metadata": {
    "id": "d2OVTsQotqWX"
   },
   "source": [
    "### Soru 7: Veri setindeki en fazla tekrarlanan yaş değeri (mod) nedir?"
   ]
  },
  {
   "cell_type": "code",
   "execution_count": null,
   "metadata": {
    "id": "4mkLEoyotqWX"
   },
   "outputs": [],
   "source": [
    "df[\"Age\"].mode()\n"
   ]
  },
  {
   "cell_type": "markdown",
   "metadata": {
    "id": "0S76-J92tqWX"
   },
   "source": [
    "### Soru 8: Ortalama bilet fiyatı kadınlar mı yoksa erkekler için mi daha yüksek?"
   ]
  },
  {
   "cell_type": "code",
   "execution_count": null,
   "metadata": {
    "id": "qtXbWYo7tqWX"
   },
   "outputs": [],
   "source": [
    "df.groupby('Sex')['Fare'].mean()\n"
   ]
  }
 ],
 "metadata": {
  "colab": {
   "provenance": []
  },
  "kernelspec": {
   "display_name": ".venv",
   "language": "python",
   "name": "python3"
  },
  "language_info": {
   "codemirror_mode": {
    "name": "ipython",
    "version": 3
   },
   "file_extension": ".py",
   "mimetype": "text/x-python",
   "name": "python",
   "nbconvert_exporter": "python",
   "pygments_lexer": "ipython3",
   "version": "3.10.6"
  }
 },
 "nbformat": 4,
 "nbformat_minor": 0
}
