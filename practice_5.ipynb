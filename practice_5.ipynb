{
 "cells": [
  {
   "cell_type": "code",
   "execution_count": null,
   "id": "ab56df1d",
   "metadata": {},
   "outputs": [],
   "source": [
    "import pandas as pd\n",
    "import numpy as np\n",
    "from sklearn.model_selection import train_test_split\n",
    "from sklearn.linear_model import LinearRegression, Lasso, Ridge\n",
    "from sklearn.metrics import mean_squared_error ,r2_score\n",
    "import matplotlib.pyplot as plt"
   ]
  },
  {
   "cell_type": "code",
   "execution_count": null,
   "id": "86d03804",
   "metadata": {},
   "outputs": [],
   "source": [
    "df = pd.read_csv('Admission_Predict.csv')\n",
    "\n",
    "df.head()"
   ]
  },
  {
   "cell_type": "code",
   "execution_count": null,
   "id": "e3649834",
   "metadata": {},
   "outputs": [],
   "source": [
    "df.tail()"
   ]
  },
  {
   "cell_type": "code",
   "execution_count": null,
   "id": "e09e5e11",
   "metadata": {},
   "outputs": [],
   "source": [
    "df.shape"
   ]
  },
  {
   "cell_type": "code",
   "execution_count": null,
   "id": "a7313793",
   "metadata": {},
   "outputs": [],
   "source": [
    "df.info()"
   ]
  },
  {
   "cell_type": "code",
   "execution_count": null,
   "id": "7769bbfb",
   "metadata": {},
   "outputs": [],
   "source": [
    "df.isnull().sum()"
   ]
  },
  {
   "cell_type": "code",
   "execution_count": null,
   "id": "f0dd7f04",
   "metadata": {},
   "outputs": [],
   "source": [
    "df.duplicated().sum()"
   ]
  },
  {
   "cell_type": "code",
   "execution_count": null,
   "id": "96b22b0d",
   "metadata": {},
   "outputs": [],
   "source": [
    "df.columns"
   ]
  },
  {
   "cell_type": "code",
   "execution_count": null,
   "id": "1f00f1cf",
   "metadata": {},
   "outputs": [],
   "source": [
    "df.describe().T"
   ]
  },
  {
   "cell_type": "code",
   "execution_count": null,
   "id": "8e50e731",
   "metadata": {},
   "outputs": [],
   "source": [
    "df[\"Chance of Admit Binary\"] = (df[\"Chance of Admit \"] >= 0.75).astype(int)"
   ]
  },
  {
   "cell_type": "code",
   "execution_count": null,
   "id": "e6e7ff90",
   "metadata": {},
   "outputs": [],
   "source": [
    "df.head()"
   ]
  },
  {
   "cell_type": "code",
   "execution_count": null,
   "id": "f3365ba4",
   "metadata": {},
   "outputs": [],
   "source": [
    "X = df.drop(columns=[\"Chance of Admit \", \"Chance of Admit Binary\", \"Serial No.\"])\n",
    "y = df[\"Chance of Admit Binary\"]"
   ]
  },
  {
   "cell_type": "code",
   "execution_count": null,
   "id": "372b720d",
   "metadata": {},
   "outputs": [],
   "source": [
    "X_train, X_test, y_train, y_test = train_test_split(X, y, test_size=0.2, random_state=42)"
   ]
  },
  {
   "cell_type": "code",
   "execution_count": null,
   "id": "551dbdf6",
   "metadata": {},
   "outputs": [],
   "source": [
    "from sklearn.preprocessing import StandardScaler\n",
    "\n",
    "scaler = StandardScaler()\n",
    "X_train_scaled = scaler.fit_transform(X_train)\n",
    "X_test_scaled = scaler.transform(X_test)"
   ]
  },
  {
   "cell_type": "code",
   "execution_count": null,
   "id": "59c0a868",
   "metadata": {},
   "outputs": [],
   "source": [
    "from sklearn.linear_model import LogisticRegression\n",
    "\n",
    "log_model = LogisticRegression(max_iter=1000)\n",
    "log_model.fit(X_train_scaled,y_train)"
   ]
  },
  {
   "cell_type": "code",
   "execution_count": null,
   "id": "d4a4acb9",
   "metadata": {},
   "outputs": [],
   "source": [
    "y_pred = log_model.predict(X_test_scaled)"
   ]
  },
  {
   "cell_type": "code",
   "execution_count": null,
   "id": "bb610a4d",
   "metadata": {},
   "outputs": [],
   "source": [
    "from sklearn.metrics import accuracy_score\n",
    "\n",
    "acc = accuracy_score(y_test,y_pred)\n",
    "\n",
    "print(\"Accuracy Score: \",acc)"
   ]
  },
  {
   "cell_type": "markdown",
   "id": "42797912",
   "metadata": {},
   "source": [
    "Modelin doğruluk skoru 0.91. Bu, test verisinin %91’ini doğru sınıflandırdığını gösterir. Yani model genel olarak başarılı bir sınıflandırma yapmaktadır."
   ]
  },
  {
   "cell_type": "code",
   "execution_count": null,
   "id": "4999db17",
   "metadata": {},
   "outputs": [],
   "source": [
    "from sklearn.metrics import confusion_matrix\n",
    "\n",
    "conf = confusion_matrix(y_test,y_pred)\n",
    "\n",
    "print(\"Confusion Matrix: \",conf)"
   ]
  },
  {
   "cell_type": "markdown",
   "id": "c4e2c638",
   "metadata": {},
   "source": [
    "Burada 42 tane \"0\" değeri doğru bilinmiş, 5 tanesi yanlış tahmin edilmiş. \"1\" değerinde ise 31 tanesi doğru ,21 tanesi yanlış tahminde bulunmuş.\n",
    "\n",
    "Model, 42 öğrenciyi doğru şekilde reddetmiş (True Negative) ve 31 öğrenciyi doğru şekilde kabul etmiş (True Positive). Sadece 5 kişiyi yanlış kabul etmiş (False Positive) ve 2 kişiyi yanlış reddetmiş (False Negative). Bu, modelin genelde iyi genelleme yaptığını gösterir."
   ]
  },
  {
   "cell_type": "code",
   "execution_count": null,
   "id": "2fcebff6",
   "metadata": {},
   "outputs": [],
   "source": [
    "from sklearn.metrics import classification_report\n",
    "\n",
    "clas = classification_report(y_test, y_pred)\n",
    "\n",
    "print(\"Classification Report: \",clas)"
   ]
  },
  {
   "cell_type": "markdown",
   "id": "39c58ba1",
   "metadata": {},
   "source": [
    "Sınıf 0 için precision 0.95, yani modelin \"reddedildi\" tahminlerinin %95’i doğru.  \n",
    "Sınıf 1 için recall 0.94, yani model kabul edilen öğrencilerin %94’ünü doğru tahmin etmiş.\n",
    "F1-score değerleri hem sınıf 0 hem de 1 için oldukça yüksektir. Bu, modelin hem doğru tahmin oranının hem de duyarlılığının güçlü olduğunu gösterir.\n"
   ]
  },
  {
   "cell_type": "code",
   "execution_count": null,
   "id": "5bf21af3",
   "metadata": {},
   "outputs": [],
   "source": [
    "feature_names = X.columns  #özellik isimleri\n",
    "\n",
    "weights = log_model.coef_[0]\n",
    "bias = log_model.intercept_[0]  #ağırlıklar\n",
    "\n",
    "for feature, weight in zip(feature_names, weights):  \n",
    "    print(f\"{feature}: {weight:.4f}\")               #her özelliğe ait ağırlığı yazdır\n",
    "\n",
    "print(\"Bias (intercept):\", round(bias, 4))  #bias değeri"
   ]
  },
  {
   "cell_type": "markdown",
   "id": "c2395c4f",
   "metadata": {},
   "source": [
    "Modelin verdiği ağırlıklara göre en etkili değişken CGPA'dır (1.76). GRE skoru (0.72) ve SOP (0.42) gibi değişkenler de kabul olasılığını anlamlı şekilde etkilemektedir. Tüm katsayılar pozitif olduğu için, her bir özelliğin artışı kabul ihtimalini artırmaktadır. Modelin bias (intercept) değeri -0.37’dir, bu da başlangıç eğiliminin düşük olduğunu göstermektedir.\n"
   ]
  },
  {
   "cell_type": "code",
   "execution_count": null,
   "id": "feb5bdf2",
   "metadata": {},
   "outputs": [],
   "source": [
    "print(\"Modelin eğitimde kullandığı iterasyon sayısı:\", log_model.n_iter_[0])"
   ]
  },
  {
   "cell_type": "markdown",
   "id": "cd4a1123",
   "metadata": {},
   "source": [
    "LogisticRegression modelinde tol parametresi erken durma için kullanılır. Yani ağırlıklar küçük bir değişimle artık iyileşmiyorsa, eğitim durur.\n",
    "\n",
    "Bunu kontrol etmek için n_iter_ özelliğini kullanabiliriz.\n",
    "Eğer bu sayı max_iter=1000'den çok daha azsa, model tolerans sınırına ulaşıp erken durmuş demektir.\n"
   ]
  },
  {
   "cell_type": "markdown",
   "id": "4104a0fd",
   "metadata": {},
   "source": [
    "Model, sadece 10 iterasyon sonunda tolerans değerine ulaşarak eğitim sürecini tamamladı. Bu durum, modelin çok hızlı bir şekilde optimum değerlere ulaştığını ve daha fazla öğrenmenin gerekli olmadığını gösterir. Bu da modelin veriye hızlı adapte olduğunu gösteren olumlu bir işarettir."
   ]
  },
  {
   "cell_type": "code",
   "execution_count": null,
   "id": "2e11b15e",
   "metadata": {},
   "outputs": [],
   "source": [
    "y_proba = log_model.predict_proba(X_test_scaled)[:, 1]  # sadece '1' sınıfının olasılıkları\n",
    "\n",
    "y_pred_075 = (y_proba >= 0.75).astype(int)\n",
    "y_pred_080 = (y_proba >= 0.80).astype(int) #Alternatif eşik değerine göre tahminler\n",
    "\n",
    "print(\"Eşik = 0.75\")\n",
    "print(\"Confusion Matrix:\\n\", confusion_matrix(y_test, y_pred_075))\n",
    "print(\"Classification Report:\\n\", classification_report(y_test, y_pred_075))# Confusion matrix ve classification report: 0.75\n",
    "\n",
    "print(\"Eşik = 0.80\")\n",
    "print(\"Confusion Matrix:\\n\", confusion_matrix(y_test, y_pred_080))\n",
    "print(\"Classification Report:\\n\", classification_report(y_test, y_pred_080))# Confusion matrix ve classification report: 0.80\n"
   ]
  },
  {
   "cell_type": "markdown",
   "id": "78ae147a",
   "metadata": {},
   "source": [
    "Eşik Değeri Etkisi (Threshold Analysis)\n",
    "Modelin `0.75` ve `0.80` eşik değerlerinde yaptığı tahminler arasında herhangi bir farklılık gözlemlenmemiştir. Bu durum, modelin tahmin olasılıklarının genellikle 0.75'in çok üstünde veya çok altında yoğunlaştığını gösterir. Yani model sınıflar arasında net bir ayrım yapabilmektedir. Bu da modelin iyi genelleme yaptığına dair olumlu bir işarettir.\n"
   ]
  },
  {
   "cell_type": "markdown",
   "id": "c1a797a2",
   "metadata": {},
   "source": [
    "### Modeli Geliştirme Önerileri\n",
    "\n",
    "🔹 **1. Yeni Özellikler Eklenebilir:**  \n",
    "Veri setinde sadece sayısal sınav puanları ve CGPA gibi özellikler yer almakta. Öğrencinin alanı, başvurduğu bölüm türü, mezun olduğu üniversitenin sıralaması, çalışma deneyimi gibi ek faktörler modele dahil edilirse performans daha da artabilir.\n",
    "\n",
    "🔹 **2. Eşik Değeri Dinamik Ayarlanabilir:**  \n",
    "Modelin eşik değeri sabit yerine ROC eğrisi veya Youden’s J istatistiği gibi yöntemlerle optimize edilerek daha iyi sınıflandırma yapılabilir.\n",
    "\n",
    "🔹 **3. Dengeleme Teknikleri Uygulanabilir:**  \n",
    "Eğer veri seti daha dengesiz olsaydı (örneğin kabul edilen sayısı çok az/çok fazla), SMOTE veya class weight gibi dengeleme teknikleri denenebilirdi.\n",
    "\n",
    "🔹 **4. Farklı Sınıflandırma Algoritmaları Kullanılabilir:**  \n",
    "Lojistik regresyon modeli yerine Random Forest, Support Vector Machines (SVM) gibi algoritmalar kullanılarak doğruluk artırılabilir ve farklı modellerin karşılaştırması yapılabilir.\n",
    "\n",
    "🔹 **5. Modelin Cross-Validation ile Test Edilmesi:**  \n",
    "Şu anda veri %80-%20 oranında tek seferde bölünüp test edildi. Ancak k-fold cross-validation uygulanarak daha sağlam ve genel geçer sonuçlara ulaşılabilir.\n"
   ]
  }
 ],
 "metadata": {
  "kernelspec": {
   "display_name": ".venv",
   "language": "python",
   "name": "python3"
  },
  "language_info": {
   "codemirror_mode": {
    "name": "ipython",
    "version": 3
   },
   "file_extension": ".py",
   "mimetype": "text/x-python",
   "name": "python",
   "nbconvert_exporter": "python",
   "pygments_lexer": "ipython3",
   "version": "3.10.6"
  }
 },
 "nbformat": 4,
 "nbformat_minor": 5
}
