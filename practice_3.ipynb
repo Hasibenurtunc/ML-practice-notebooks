{
 "cells": [
  {
   "cell_type": "markdown",
   "id": "9e7500f7",
   "metadata": {},
   "source": [
    "# 🎓 Titanic Veri Seti Görselleştirme Uygulamaları\n"
   ]
  },
  {
   "cell_type": "code",
   "execution_count": null,
   "id": "a48d74c2",
   "metadata": {},
   "outputs": [],
   "source": [
    "import pandas as pd\n",
    "import seaborn as sns\n",
    "import matplotlib.pyplot as plt\n",
    "import numpy as np \n",
    "\n",
    "df = sns.load_dataset(\"titanic\")\n",
    "df.head()"
   ]
  },
  {
   "cell_type": "markdown",
   "id": "657e22ea",
   "metadata": {},
   "source": [
    "### ❓ Soru: Cinsiyete göre yolcu sayısını görselleştirin. (örn. countplot veya bar chart)"
   ]
  },
  {
   "cell_type": "code",
   "execution_count": null,
   "id": "fa27f728",
   "metadata": {},
   "outputs": [],
   "source": [
    "sns.countplot(x=\"sex\", data=df ) # sex değikenine göre sayım grafiği çiz\n",
    "plt.title('Cinsiyete Göre Yolcu Sayısı') #grafik başlığı\n",
    "plt.xlabel(\"Cinsiyet\") #x ekseni etiketi\n",
    "plt.ylabel(\"Yolcu sayısı\") #y ekseni etiketi\n",
    "plt.show()\n",
    "\n",
    "# erkek yolcu sayısı kadınlardan daha fazla"
   ]
  },
  {
   "cell_type": "markdown",
   "id": "ff7f9211",
   "metadata": {},
   "source": [
    "### ❓ Soru: \"Survived\" değişkeninin dağılımını çiziniz."
   ]
  },
  {
   "cell_type": "code",
   "execution_count": null,
   "id": "ce9c57ff",
   "metadata": {},
   "outputs": [],
   "source": [
    "sns.countplot(x=\"survived\", data=df) # sex değikenine göre sayım grafiği çiz\n",
    "plt.title(\"Hayatta Kalma Dağılımı\") #grafik başlığı\n",
    "plt.xlabel(\"Hayatta Kalma (0 = Hayır, 1 = Evet)\") #x ekseni etiketi\n",
    "plt.ylabel(\"Yolcu sayısı\") #y ekseni etiketi\n",
    "plt.xticks([0,1], [\"Hayır\", \"Evet\"]) # X ekseni etiketleri\n",
    "plt.grid(axis='y', linestyle='--', alpha=0.7) # Y ekseni için grid çizgileri\n",
    "plt.tight_layout() # Grafik düzenini sıkıştır\n",
    "plt.show()\n",
    "\n",
    "#hayatta kalmayan yolcu sayısı daha fazla"
   ]
  },
  {
   "cell_type": "markdown",
   "id": "3e35b684",
   "metadata": {},
   "source": [
    "### ❓ Soru: \"Pclass\" değişkeninin histogramını veya çubuk grafiğini oluşturun."
   ]
  },
  {
   "cell_type": "code",
   "execution_count": null,
   "id": "bb1c3830",
   "metadata": {},
   "outputs": [],
   "source": [
    "plt.figure(figsize=(8,6)) # Grafik boyutu\n",
    "sns.countplot(x=\"pclass\", data=df)\n",
    "plt.title(\"Yolcu Sınıfı Dağılımı\") #grafik başlığı\n",
    "plt.xlabel(\"Sınıflar\")   #x ekseni etiketi\n",
    "plt.ylabel(\"Frekans\")    #y ekseni etiketi\n",
    "plt.grid(True, linestyle='--', alpha=0.5)  #grid çizgileri\n",
    "plt.tight_layout()\n",
    "plt.show()\n",
    "\n",
    "#3. sınıf yolcular en fazla, 2. sınıf en az\n"
   ]
  },
  {
   "cell_type": "markdown",
   "id": "76de5444",
   "metadata": {},
   "source": [
    "### ❓ Soru: \"Age\" değişkeninin histogramını çiziniz."
   ]
  },
  {
   "cell_type": "code",
   "execution_count": null,
   "id": "44ed7d63",
   "metadata": {},
   "outputs": [],
   "source": [
    "plt.figure(figsize=(8,5))\n",
    "plt.hist(df[\"age\"], bins=20, color=\"mediumpurple\", edgecolor='black')\n",
    "plt.title(\"Yaş Dağılımı\")\n",
    "plt.xlabel(\"Yaş\")\n",
    "plt.ylabel(\"Frekans\")\n",
    "plt.grid(True, linestyle='--', alpha=0.5)\n",
    "plt.tight_layout()\n",
    "plt.show()\n",
    "\n",
    "#Yaş dağılımı sağa çarpık, çoğu yolcu 20-40 yaş aralığında"
   ]
  },
  {
   "cell_type": "markdown",
   "id": "74f3a6f8",
   "metadata": {},
   "source": [
    "### ❓ Soru: \"Fare\" değişkeninin histogramını çizip açıklayınız."
   ]
  },
  {
   "cell_type": "code",
   "execution_count": null,
   "id": "22d0b441",
   "metadata": {},
   "outputs": [],
   "source": [
    "plt.figure(figsize=(8,5))\n",
    "plt.hist(df[\"fare\"], bins=20, color=\"mediumpurple\", edgecolor='black')\n",
    "plt.title(\"Ücret Dağılımı\")\n",
    "plt.xlabel(\"Ücret\")\n",
    "plt.ylabel(\"Frekans\")\n",
    "plt.grid(True, linestyle='--', alpha=0.5)\n",
    "plt.tight_layout()\n",
    "plt.show()\n",
    "\n",
    "#Ücret dağılımı sağa çarpık, çoğu yolcu düşük ücret ödemiş"
   ]
  },
  {
   "cell_type": "markdown",
   "id": "d2c13c53",
   "metadata": {},
   "source": [
    "### ❓ Soru: Cinsiyete göre yaş dağılımını karşılaştırın. (örn. boxplot, violinplot, kdeplot)"
   ]
  },
  {
   "cell_type": "code",
   "execution_count": null,
   "id": "82ce1c78",
   "metadata": {},
   "outputs": [],
   "source": [
    "sns.boxplot(x=\"sex\", y=\"age\",data=df)\n",
    "plt.title(\"Cinsiyet / Yaş İlişkisi\")\n",
    "plt.xlabel(\"Cinsiyet\")\n",
    "plt.ylabel(\"Yaş\")\n",
    "plt.show()\n",
    "\n",
    "#Kadın ve erkeklerin yaş dağılımları benzer, ancak erkeklerde yaş aralığı daha geniş"
   ]
  },
  {
   "cell_type": "markdown",
   "id": "778c07c9",
   "metadata": {},
   "source": [
    "### ❓ Soru: Pclass'a göre ücret dağılımını inceleyin."
   ]
  },
  {
   "cell_type": "code",
   "execution_count": null,
   "id": "4e8c21eb",
   "metadata": {},
   "outputs": [],
   "source": [
    "sns.boxplot(x=\"pclass\", y=\"fare\",data=df)\n",
    "plt.title(\"Sınıf / Ücret İlişkisi\")\n",
    "plt.xlabel(\"Sınıf\")\n",
    "plt.ylabel(\"Ücret\")\n",
    "plt.show()\n",
    "\n",
    "#1.sınıf yolcuları daha yüksek ücret ödemiştir"
   ]
  },
  {
   "cell_type": "markdown",
   "id": "fe886885",
   "metadata": {},
   "source": [
    "### ❓ Soru: Survived’a göre yaş dağılımını inceleyin."
   ]
  },
  {
   "cell_type": "code",
   "execution_count": null,
   "id": "287fe695",
   "metadata": {},
   "outputs": [],
   "source": [
    "sns.boxplot(x=\"survived\", y=\"age\",data=df)\n",
    "plt.title(\"Hayatta Kalma / Yaş İlişkisi\")\n",
    "plt.xlabel(\"Hayatta Kalma\")\n",
    "plt.ylabel(\"Yaş\")\n",
    "plt.show()\n",
    "\n",
    "#Hayatta kalanlar ve kalmayanlar arasında yaş açısından büyük fark yok"
   ]
  },
  {
   "cell_type": "markdown",
   "id": "196f9486",
   "metadata": {},
   "source": [
    "### ❓ Soru: Cinsiyet ve sınıfa göre hayatta kalma oranlarını barplot ile karşılaştırın."
   ]
  },
  {
   "cell_type": "code",
   "execution_count": null,
   "id": "ae7a2ea0",
   "metadata": {},
   "outputs": [],
   "source": [
    "sns.barplot(x=\"sex\", y=\"survived\", hue=\"pclass\", data=df)\n",
    "plt.title(\"Cinsiyet ve Sınıfa Göre Hayatta Kalma Oranı\")\n",
    "plt.xlabel(\"Cinsiyet\")\n",
    "plt.ylabel(\"Hayatta Kalma Oranı\")\n",
    "\n",
    "#Kadınlar ve 1. sınıf yolcuları daha yüksek hayatta kalma oranına sahip"
   ]
  },
  {
   "cell_type": "markdown",
   "id": "8fa60e42",
   "metadata": {},
   "source": [
    "### ❓ Soru: FacetGrid ile cinsiyete göre yaş histogramlarını ayrı ayrı gösterin."
   ]
  },
  {
   "cell_type": "code",
   "execution_count": null,
   "id": "275f6a67",
   "metadata": {},
   "outputs": [],
   "source": [
    "g = sns.FacetGrid(df, col=\"sex\")\n",
    "g.map(sns.histplot, \"age\")\n",
    "\n",
    "#Kadın ve erkeklerin yaş dağılımları benzer, ancak erkeklerde çocuk oranı daha yüksek"
   ]
  },
  {
   "cell_type": "markdown",
   "id": "73e0c773",
   "metadata": {},
   "source": [
    "### ❓ Soru: \"Fare\" ve \"Age\" değişkenleri arasında scatterplot oluşturun."
   ]
  },
  {
   "cell_type": "code",
   "execution_count": null,
   "id": "08300a6b",
   "metadata": {},
   "outputs": [],
   "source": [
    "sns.scatterplot(x=\"age\", y=\"fare\", hue=\"survived\", data=df) \n",
    "plt.title(\"Yaş ve Ücret İlişkisi\")\n",
    "plt.xlabel(\"Yaş\") \n",
    "plt.ylabel(\"Ücret\") \n",
    "plt.legend(title=\"Hayatta Kalma Durumu\")\n",
    "plt.show()\n",
    "\n",
    "#ücret arttıkça yaşama oranında artış görülüyor"
   ]
  },
  {
   "cell_type": "markdown",
   "id": "2c0b0ec8",
   "metadata": {},
   "source": [
    "### ❓ Soru: Korelasyon matrisi ve heatmap ile değişkenler arasındaki ilişkiyi görselleştirin."
   ]
  },
  {
   "cell_type": "code",
   "execution_count": null,
   "id": "0c5c2e7a",
   "metadata": {},
   "outputs": [],
   "source": [
    "corr = df.corr(numeric_only=True)\n",
    "sns.heatmap(corr, annot=True, cmap=\"coolwarm\")\n",
    "plt.title(\"Korelasyon Matrisi\") \n",
    "plt.show() \n",
    "\n",
    "#En yüksek korelasyon, \"pclass\" ve \"fare\" arasında negatif yönde"
   ]
  },
  {
   "cell_type": "markdown",
   "id": "a70ffea5",
   "metadata": {},
   "source": [
    "### ❓ Soru: \"Age\" değişkeninin çarpıklık (skewness) ve basıklığını (kurtosis) hesaplayın ve yorumlayın."
   ]
  },
  {
   "cell_type": "code",
   "execution_count": null,
   "id": "8fbb351d",
   "metadata": {},
   "outputs": [],
   "source": [
    "# Skewness ve Kurtosis hesaplama\n",
    "print(\"Çarpıklık (Skewness):\", df[\"age\"].skew())\n",
    "print(\"Basıklık (Kurtosis):\", df[\"age\"].kurt())\n",
    "\n",
    "#Çarpıklık pozitifse sağa çarpık, kurtosis yüksekse uç değerler fazladır\n"
   ]
  },
  {
   "cell_type": "markdown",
   "id": "da721dda",
   "metadata": {},
   "source": [
    "### ❓ Soru: Seaborn pairplot ile sayısal değişkenleri inceleyin. Hayatta kalma durumunu hue parametresiyle ayırın."
   ]
  },
  {
   "cell_type": "code",
   "execution_count": null,
   "id": "ca15eee8",
   "metadata": {},
   "outputs": [],
   "source": [
    "sns.pairplot(df[[\"age\", \"fare\", \"pclass\", \"survived\"]], hue=\"survived\") \n",
    "plt.show() \n",
    "\n",
    "# Hayatta kalanlar ve kalmayanlar arasında bazı değişkenlerde ayrışma gözleniyor\n"
   ]
  },
  {
   "cell_type": "markdown",
   "id": "8f4ce837",
   "metadata": {},
   "source": [
    "### ❓ Soru: \"Sex\", \"Pclass\" ve \"Survived\" değişkenlerini içeren gruplu bir violinplot oluşturun."
   ]
  },
  {
   "cell_type": "code",
   "execution_count": null,
   "id": "06f3e2ee",
   "metadata": {},
   "outputs": [],
   "source": [
    "sns.catplot(x=\"pclass\", y=\"age\", hue=\"sex\", col=\"survived\",\n",
    "            kind=\"violin\", data=df, height=5, aspect=1)\n",
    "\n",
    "plt.subplots_adjust(top=0.85)\n",
    "plt.suptitle(\"Cinsiyet, Sınıf ve Hayatta Kalma Durumuna Göre Yaş Dağılımı\", fontsize=14)\n",
    "\n",
    "# Her sınıfta hayatta kalanların yaş dağılımı farklılık gösteriyor\n",
    "\n"
   ]
  },
  {
   "cell_type": "markdown",
   "id": "5be051f6",
   "metadata": {},
   "source": [
    "### ❓ Soru: \"Embarked\" değişkenine göre fare dağılımını inceleyin."
   ]
  },
  {
   "cell_type": "code",
   "execution_count": null,
   "id": "dc149385",
   "metadata": {},
   "outputs": [],
   "source": [
    "sns.boxplot(x=\"embarked\", y=\"fare\", data=df)\n",
    "plt.title(\"Biniş Limanına Göre Ücret Dağılımı\")\n",
    "plt.xlabel(\"Biniş Limanı\")\n",
    "plt.ylabel(\"Ücret\")\n",
    "plt.show()\n",
    "\n",
    "#C limanından binenler genellikle daha yüksek ücret ödemiş\n"
   ]
  },
  {
   "cell_type": "markdown",
   "id": "1a7c5a75",
   "metadata": {},
   "source": [
    "### ❓ Soru: Plotly ile cinsiyet ve sınıfa göre interaktif bir histogram oluşturun."
   ]
  },
  {
   "cell_type": "code",
   "execution_count": null,
   "id": "c6940478",
   "metadata": {},
   "outputs": [],
   "source": [
    "import plotly.express as px\n",
    "\n",
    "fig = px.histogram(df, x=\"pclass\", color=\"sex\", barmode=\"group\", title=\"Cinsiyet ve Sınıfa Göre Yaş Dağılımı \")\n",
    "fig.show()\n",
    "\n",
    "#Her sınıfta kadın ve erkek yolcu sayıları karşılaştırılabiliyor, genellikle her sınıfta erkek sayısı daha fazla "
   ]
  },
  {
   "cell_type": "markdown",
   "id": "2bd707c5",
   "metadata": {},
   "source": [
    "### ❓ Soru: Eksik veri analizi yaparak eksik verileri heatmap ile görselleştirin."
   ]
  },
  {
   "cell_type": "code",
   "execution_count": null,
   "id": "23762237",
   "metadata": {},
   "outputs": [],
   "source": [
    "sns.heatmap(df.isnull(), cbar=False, cmap=\"viridis\") \n",
    "plt.title(\"Eksik Verilerin Heatmap ile Gösterimi\")\n",
    "plt.show()\n",
    "\n",
    "#Bazı sütunlarda eksik veri yoğunluğu var "
   ]
  },
  {
   "cell_type": "markdown",
   "id": "877a2442",
   "metadata": {},
   "source": [
    "### ❓ Soru: Cinsiyet ve yaş arasındaki ilişkiyi scatterplot ile gösterip renkleri hayatta kalma durumuna göre ayarlayın."
   ]
  },
  {
   "cell_type": "code",
   "execution_count": null,
   "id": "0303fef3",
   "metadata": {},
   "outputs": [],
   "source": [
    "sns.scatterplot(data=df, x=\"sex\", y=\"age\", hue=\"survived\")\n",
    "plt.title(\"Cinsiyet ve Yaş Arasındaki İlişki\")\n",
    "plt.ylabel(\"Yaş\")\n",
    "plt.xlabel(\"Cinsiyet\")\n",
    "plt.legend(title=\"Hayatta Kalma Durumu\")\n",
    "plt.show()\n",
    "\n",
    "# Grafik, kadın yolcuların hayatta kalma oranının daha yüksek\n",
    "# olduğunu gösteriyor.Erkek yolcuların ise hayatta kalma oranı düşüktür."
   ]
  },
  {
   "cell_type": "markdown",
   "id": "01f32ef5",
   "metadata": {},
   "source": [
    "### ❓ Soru: Matplotlib ile özelleştirilmiş bir bar grafiği oluşturun (renk, kalınlık, grid, label)."
   ]
  },
  {
   "cell_type": "code",
   "execution_count": null,
   "id": "f4b683ce",
   "metadata": {},
   "outputs": [],
   "source": [
    "survival_by_class = df.groupby('pclass')['survived'].mean()\n",
    "\n",
    "bars = plt.bar(survival_by_class.index, survival_by_class.values, \n",
    "               color=['pink', 'skyblue', 'yellow'], \n",
    "               alpha=0.8, edgecolor='red', linewidth=2)   #bar renkleri eklendi , boyutları ayarlandı\n",
    "\n",
    "plt.title('Sınıfa Göre Hayatta Kalma Oranları', fontsize=16, fontweight='bold')\n",
    "plt.xlabel('Yolcu Sınıfı', fontsize=12)\n",
    "plt.ylabel('Hayatta Kalma Oranı', fontsize=12)\n",
    "plt.grid(True, alpha=0.3)   #grid eklendi boyutuyla\n",
    "plt.ylim(0, 1)\n",
    "plt.tight_layout()\n",
    "plt.show()"
   ]
  },
  {
   "cell_type": "markdown",
   "id": "05070508",
   "metadata": {},
   "source": [
    "## 📘 Bonus Yorumlama Soruları"
   ]
  },
  {
   "cell_type": "markdown",
   "id": "ad2c4ac6",
   "metadata": {},
   "source": [
    "### ❓ Soru: Korelasyonu yüksek olan iki değişken bulun. İlişkilerini grafikle açıklayın."
   ]
  },
  {
   "cell_type": "code",
   "execution_count": null,
   "id": "25b1c8a9",
   "metadata": {},
   "outputs": [],
   "source": [
    "sns.scatterplot(x=\"pclass\", y=\"fare\", data=df)\n",
    "plt.title(\"Sınıf ve Ücret Arasındaki İlişki\")\n",
    "plt.show()\n",
    "\n",
    "#Daha düşük sınıf numarası (1. sınıf) daha yüksek ücretle ilişkili"
   ]
  },
  {
   "cell_type": "markdown",
   "id": "f7c54a16",
   "metadata": {},
   "source": [
    "### ❓ Soru: En fazla hayatta kalan grup hangisidir? (Cinsiyet + Sınıf)"
   ]
  },
  {
   "cell_type": "code",
   "execution_count": null,
   "id": "cf6265a3",
   "metadata": {},
   "outputs": [],
   "source": [
    "#df.groupby([\"sex\", \"pclass\"])[\"survived\"].mean().sort_values(ascending=False) -> bu sorgu ile de görebiliriz\n",
    "#En yüksek hayatta kalma oranı 1. sınıf kadınlarda\n",
    "sns.barplot(x=\"sex\", y=\"survived\", hue=\"pclass\", data=df)\n",
    "plt.title(\"Cinsiyet ve Sınıfa Göre Hayatta Kalma Oranı\")\n",
    "plt.xlabel(\"Cinsiyet\")\n",
    "plt.ylabel(\"Hayatta Kalma Oranı\")"
   ]
  },
  {
   "cell_type": "markdown",
   "id": "d4950bfe",
   "metadata": {},
   "source": [
    "### ❓ Soru: Yaş dağılımı normal mi? Neden?"
   ]
  },
  {
   "cell_type": "code",
   "execution_count": null,
   "id": "53c60de0",
   "metadata": {},
   "outputs": [],
   "source": [
    "# Yaş dağılımı normal değildir, çünkü sağa çarpık ve uç değerler fazladır\n",
    "plt.figure(figsize=(8,5))\n",
    "plt.hist(df[\"age\"], bins=20, color=\"mediumpurple\", edgecolor='black')\n",
    "plt.title(\"Yaş Dağılımı\")\n",
    "plt.xlabel(\"Yaş\")\n",
    "plt.ylabel(\"Frekans\")\n",
    "plt.grid(True, linestyle='--', alpha=0.5)\n",
    "plt.tight_layout()\n",
    "plt.show()"
   ]
  },
  {
   "cell_type": "markdown",
   "id": "a99a0e27",
   "metadata": {},
   "source": [
    "### ❓ Soru: Violinplot ile boxplot’ın farkı nedir?"
   ]
  },
  {
   "cell_type": "code",
   "execution_count": null,
   "id": "d4291f1f",
   "metadata": {},
   "outputs": [],
   "source": [
    "# Boxplot, dağılımın özetini (medyan, çeyrekler, uç değerler) gösterir. Violinplot ise dağılımın yoğunluğunu ve şeklini de gösterir"
   ]
  },
  {
   "cell_type": "markdown",
   "id": "e5acbabd",
   "metadata": {},
   "source": [
    "### ❓ Soru: Grafiklerde dikkat edilmesi gereken 3 temel ipucu nedir?"
   ]
  },
  {
   "cell_type": "code",
   "execution_count": null,
   "id": "27f20d64",
   "metadata": {},
   "outputs": [],
   "source": [
    "# 1.Doğru ölçek ve etiket kullanımı\n",
    "# 2.Renklerin anlamlı ve ayırt edici olması\n",
    "# 3.Grafik başlığı ve açıklamalarının açık olması"
   ]
  },
  {
   "cell_type": "markdown",
   "id": "d7f6cb08",
   "metadata": {},
   "source": [
    "## 🧠 Refleksiyon"
   ]
  },
  {
   "cell_type": "markdown",
   "id": "7364ef33",
   "metadata": {},
   "source": [
    "**En çok şaşırdığınız veya dikkat çeken sonuç neydi? Görselleştirme size veriyle ilgili hangi içgörüleri sağladı?**"
   ]
  },
  {
   "cell_type": "code",
   "execution_count": null,
   "id": "217c1bf6",
   "metadata": {},
   "outputs": [],
   "source": [
    "# Kadınların hayatta kalma oranı 1. sınıfta zaten en yüksek, fakat 3. sınıf kadınların hayatta kalma oranı bile erkeklerden daha fazla bu ilginç bir sonuç."
   ]
  }
 ],
 "metadata": {
  "kernelspec": {
   "display_name": ".venv",
   "language": "python",
   "name": "python3"
  },
  "language_info": {
   "codemirror_mode": {
    "name": "ipython",
    "version": 3
   },
   "file_extension": ".py",
   "mimetype": "text/x-python",
   "name": "python",
   "nbconvert_exporter": "python",
   "pygments_lexer": "ipython3",
   "version": "3.10.6"
  }
 },
 "nbformat": 4,
 "nbformat_minor": 5
}
