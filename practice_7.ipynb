{
 "cells": [
  {
   "cell_type": "code",
   "execution_count": null,
   "id": "d8c8a865",
   "metadata": {},
   "outputs": [],
   "source": [
    "import pandas as pd\n",
    "import numpy as np\n",
    "\n",
    "df = pd.read_csv(\"UNSW_NB15_training-set.csv\")\n",
    "df.head()"
   ]
  },
  {
   "cell_type": "code",
   "execution_count": null,
   "id": "8d34ba56",
   "metadata": {},
   "outputs": [],
   "source": [
    "df.info()"
   ]
  },
  {
   "cell_type": "code",
   "execution_count": null,
   "id": "b9d32d20",
   "metadata": {},
   "outputs": [],
   "source": [
    "categoric = [col for col in df.columns\n",
    "             if df[col].dtype == 'object']\n",
    "print(\"Categorical columns :\", categoric)\n",
    "\n",
    "numeric = [col for col in df.columns\n",
    "            if df[col].dtype != 'object']\n",
    "print(\"Numerical columns: \",numeric)"
   ]
  },
  {
   "cell_type": "code",
   "execution_count": null,
   "id": "53046727",
   "metadata": {},
   "outputs": [],
   "source": [
    "df = df.drop(columns=['proto', 'service', 'state', 'attack_cat'])"
   ]
  },
  {
   "cell_type": "code",
   "execution_count": null,
   "id": "62f91873",
   "metadata": {},
   "outputs": [],
   "source": [
    "# Normal veriden 2000 örnek, attackten 500 örnek \n",
    "normal = df[df[\"label\"] == 0].sample(2000, random_state=42)\n",
    "attack = df[df[\"label\"] == 1].sample(500, random_state=42)\n",
    "\n",
    "df_sample = pd.concat([normal,attack],ignore_index=True)\n",
    "\n",
    "df_sample.shape"
   ]
  },
  {
   "cell_type": "code",
   "execution_count": null,
   "id": "363e8bde",
   "metadata": {},
   "outputs": [],
   "source": [
    "df_sample.head()"
   ]
  },
  {
   "cell_type": "code",
   "execution_count": null,
   "id": "b5f1c3ef",
   "metadata": {},
   "outputs": [],
   "source": [
    "df_sample.info()"
   ]
  },
  {
   "cell_type": "code",
   "execution_count": null,
   "id": "0d8797b3",
   "metadata": {},
   "outputs": [],
   "source": [
    "df_sample.isnull().sum()"
   ]
  },
  {
   "cell_type": "code",
   "execution_count": null,
   "id": "fe4b0a4e",
   "metadata": {},
   "outputs": [],
   "source": [
    "from sklearn.preprocessing import StandardScaler\n",
    "\n",
    "X = df_sample.drop([\"label\"], axis=1)\n",
    "\n",
    "scaler = StandardScaler()\n",
    "X_scaled = scaler.fit_transform(X)"
   ]
  },
  {
   "cell_type": "code",
   "execution_count": null,
   "id": "ee362d62",
   "metadata": {},
   "outputs": [],
   "source": [
    "import matplotlib.pyplot as plt\n",
    "import seaborn as sns\n",
    "from sklearn.cluster import DBSCAN\n",
    "from sklearn.ensemble import IsolationForest\n",
    "from sklearn.decomposition import PCA\n",
    "from sklearn.neighbors import NearestNeighbors\n",
    "from sklearn.metrics import confusion_matrix, classification_report, recall_score, precision_score, f1_score"
   ]
  },
  {
   "cell_type": "code",
   "execution_count": null,
   "id": "fe0b4f19",
   "metadata": {},
   "outputs": [],
   "source": [
    "dbscan = DBSCAN(eps=2.2, min_samples=5)\n",
    "labels = dbscan.fit_predict(X_scaled)\n",
    "\n",
    "df_sample[\"DBSCAN_Cluster\"] = labels"
   ]
  },
  {
   "cell_type": "code",
   "execution_count": null,
   "id": "72f5e7fa",
   "metadata": {},
   "outputs": [],
   "source": [
    "# DBSCAN için eps parametresini belirlemek için k-nearest neighbors analizi\n",
    "neighbors = NearestNeighbors(n_neighbors=5)\n",
    "neighbors_fit = neighbors.fit(X_scaled)\n",
    "distances, indices = neighbors_fit.kneighbors(X_scaled)\n",
    "\n",
    "# En uzak 5. komşuya olan mesafeleri sırala\n",
    "distances = np.sort(distances[:, 4])\n",
    "plt.plot(distances)\n",
    "plt.title('DBSCAN için eps tahmini (dirsek noktası)')\n",
    "plt.show()\n",
    "\n",
    "# Dirsek noktasını belirlemek için\n",
    "knee_point = np.argmax(np.diff(distances))\n",
    "print(f\"Önerilen eps değeri: {distances[knee_point]:.3f}\")"
   ]
  },
  {
   "cell_type": "code",
   "execution_count": null,
   "id": "254a6fc0",
   "metadata": {},
   "outputs": [],
   "source": [
    "# eps tahmini çizgisi ile birlikte k-distance plot\n",
    "plt.figure(figsize=(8, 5))\n",
    "plt.plot(distances)\n",
    "plt.axhline(y=2.2, color='r', linestyle='--', label='eps ≈ 2.2')\n",
    "plt.title(\"DBSCAN için eps tahmini (dirsek noktası)\")\n",
    "plt.xlabel(\"Veri Noktası Sırası\")\n",
    "plt.ylabel(\"5. Komşuya Uzaklık\")\n",
    "plt.legend()\n",
    "plt.grid(True)\n",
    "plt.show()"
   ]
  },
  {
   "cell_type": "code",
   "execution_count": null,
   "id": "93f30d4e",
   "metadata": {},
   "outputs": [],
   "source": [
    "pca = PCA(n_components=2)\n",
    "X_pca = pca.fit_transform(X_scaled)\n",
    "\n",
    "plt.figure(figsize=(8,6))\n",
    "sns.scatterplot(x=X_pca[:,0], y=X_pca[:,1], hue=labels, palette=\"tab10\", s=30)\n",
    "plt.title(\"DBSCAN Kümeleme - PCA 2D\")\n",
    "plt.xlabel(\"PCA1\")\n",
    "plt.ylabel(\"PCA2\")\n",
    "plt.legend(title=\"Cluster\")\n",
    "plt.show()\n"
   ]
  },
  {
   "cell_type": "code",
   "execution_count": null,
   "id": "d1bc9002",
   "metadata": {},
   "outputs": [],
   "source": [
    "# Küme etiketleri içinde -1 olanlar 'gürültü' yani anomali\n",
    "print(df_sample[\"DBSCAN_Cluster\"].value_counts())\n",
    "\n",
    "# Gürültü içinde kaç attack var?\n",
    "anomaliler = df_sample[df_sample[\"DBSCAN_Cluster\"] == -1]\n",
    "print(\"Gürültüdeki Attack Sayısı:\", anomaliler[\"label\"].sum())"
   ]
  },
  {
   "cell_type": "code",
   "execution_count": null,
   "id": "aa95ef89",
   "metadata": {},
   "outputs": [],
   "source": [
    "df_sample[\"Predicted_Attack\"] = (df_sample[\"DBSCAN_Cluster\"]== -1).astype(int)"
   ]
  },
  {
   "cell_type": "code",
   "execution_count": null,
   "id": "d6bfc38d",
   "metadata": {},
   "outputs": [],
   "source": [
    "df_sample.head()"
   ]
  },
  {
   "cell_type": "code",
   "execution_count": null,
   "id": "dcd1a42d",
   "metadata": {},
   "outputs": [],
   "source": [
    "print(confusion_matrix(df_sample[\"label\"], df_sample[\"Predicted_Attack\"]))\n",
    "print(classification_report(df_sample[\"label\"], df_sample[\"Predicted_Attack\"]))"
   ]
  },
  {
   "cell_type": "code",
   "execution_count": null,
   "id": "0f3d3ce2",
   "metadata": {},
   "outputs": [],
   "source": [
    "from sklearn.metrics import silhouette_score\n",
    "\n",
    "eps_values = np.arange(1.5, 3.0, 0.1)\n",
    "scores = []\n",
    "\n",
    "for eps in eps_values:\n",
    "    db = DBSCAN(eps=eps, min_samples=5)\n",
    "    labels = db.fit_predict(X_scaled)\n",
    "    n_clusters = len(set(labels)) - (1 if -1 in labels else 0)\n",
    "\n",
    "    # En az 2 küme varsa skoru hesapla (outlier olabilir, sorun değil)\n",
    "    if n_clusters >= 2:\n",
    "        try:\n",
    "            score = silhouette_score(X_scaled, labels)\n",
    "            scores.append((eps, score))\n",
    "        except:\n",
    "            continue  # silhouette score hesaplanamazsa geç\n",
    "\n",
    "if scores:\n",
    "    best_eps = max(scores, key=lambda x: x[1])[0]\n",
    "    print(f\"En iyi eps değeri: {best_eps}\")\n",
    "else:\n",
    "    best_eps = 2.2\n",
    "\n"
   ]
  },
  {
   "cell_type": "code",
   "execution_count": null,
   "id": "23dfa2f6",
   "metadata": {},
   "outputs": [],
   "source": [
    "print(df[\"label\"].value_counts())"
   ]
  },
  {
   "cell_type": "code",
   "execution_count": null,
   "id": "050525b7",
   "metadata": {},
   "outputs": [],
   "source": [
    "normal = df[df[\"label\"] == 0].sample(2000, random_state=42)\n",
    "attack = df[df[\"label\"] == 1].sample(500, random_state=42)\n",
    "\n",
    "df_sample = pd.concat([normal,attack],ignore_index=True)\n",
    "X = df_sample.drop([\"label\"], axis=1) \n",
    "y = df_sample[\"label\"]"
   ]
  },
  {
   "cell_type": "code",
   "execution_count": null,
   "id": "f3d42f9a",
   "metadata": {},
   "outputs": [],
   "source": [
    "scaler = StandardScaler()\n",
    "X_scaled = scaler.fit_transform(X)\n",
    "\n",
    "# DBSCAN'ı tekrar çalıştır\n",
    "dbscan = DBSCAN(eps=2.2, min_samples=5)\n",
    "labels = dbscan.fit_predict(X_scaled)\n",
    "\n",
    "# Predicted_Attack sütununu oluştur\n",
    "df_sample[\"DBSCAN_Cluster\"] = labels\n",
    "df_sample[\"Predicted_Attack\"] = (df_sample[\"DBSCAN_Cluster\"] == -1).astype(int)"
   ]
  },
  {
   "cell_type": "code",
   "execution_count": null,
   "id": "54f7e457",
   "metadata": {},
   "outputs": [],
   "source": [
    "iso = IsolationForest(contamination=len(attack)/len(df_sample), random_state=42)\n",
    "df_sample[\"Predicted\"] = iso.fit_predict(X_scaled)"
   ]
  },
  {
   "cell_type": "code",
   "execution_count": null,
   "id": "bb630e1d",
   "metadata": {},
   "outputs": [],
   "source": [
    "df_sample[\"Predicted\"] = df_sample[\"Predicted\"].apply(lambda x: 1 if x == -1 else 0)"
   ]
  },
  {
   "cell_type": "code",
   "execution_count": null,
   "id": "a57a11e1",
   "metadata": {},
   "outputs": [],
   "source": [
    "print(confusion_matrix(y, df_sample[\"Predicted\"]))\n",
    "print(classification_report(y, df_sample[\"Predicted\"]))"
   ]
  },
  {
   "cell_type": "code",
   "execution_count": null,
   "id": "69b67ffd",
   "metadata": {},
   "outputs": [],
   "source": [
    "plt.figure(figsize=(8,6))\n",
    "sns.scatterplot(x=X_pca[:,0], y=X_pca[:,1], hue=df_sample[\"Predicted\"], palette=\"tab10\", s=30)\n",
    "plt.title(\"Isolation Forest Anomali Tespiti - PCA 2D\")\n",
    "plt.xlabel(\"PCA1\")\n",
    "plt.ylabel(\"PCA2\")\n",
    "plt.legend(title=\"Anomali\")\n",
    "plt.show()"
   ]
  },
  {
   "cell_type": "code",
   "execution_count": null,
   "id": "cc019a7a",
   "metadata": {},
   "outputs": [],
   "source": [
    "print(\"=== MODEL KARŞILAŞTIRMASI ===\")\n",
    "print(\"\\nDBSCAN Sonuçları:\")\n",
    "print(f\"Precision: {precision_score(y, df_sample['Predicted_Attack']):.3f}\")\n",
    "print(f\"Recall: {recall_score(y, df_sample['Predicted_Attack']):.3f}\")\n",
    "print(f\"F1-Score: {f1_score(y, df_sample['Predicted_Attack']):.3f}\")\n",
    "\n",
    "print(\"\\nIsolation Forest Sonuçları:\")\n",
    "print(f\"Precision: {precision_score(y, df_sample['Predicted']):.3f}\")\n",
    "print(f\"Recall: {recall_score(y, df_sample['Predicted']):.3f}\")\n",
    "print(f\"F1-Score: {f1_score(y, df_sample['Predicted']):.3f}\")"
   ]
  },
  {
   "cell_type": "code",
   "execution_count": null,
   "id": "2973218b",
   "metadata": {},
   "outputs": [],
   "source": [
    "print(\"\\n=== SONUÇ YORUMLAMA ===\")\n",
    "print(\"DBSCAN:\")\n",
    "print(\"- Saldırı tespiti precision: 0.296 (düşük)\")\n",
    "print(\"- Saldırı tespiti recall: 0.116 (çok düşük)\")\n",
    "print(\"- Normal trafik tespiti: 0.81 (iyi)\")\n",
    "\n",
    "print(\"\\nIsolation Forest:\")\n",
    "print(\"- Saldırı tespiti precision: 0.258 (düşük)\")\n",
    "print(\"- Saldırı tespiti recall: 0.258 (daha iyi)\")\n",
    "print(\"- Normal trafik tespiti: 0.81 (iyi)\")"
   ]
  },
  {
   "cell_type": "markdown",
   "id": "5c7d3da4",
   "metadata": {},
   "source": [
    "\n",
    "---\n",
    "\n",
    "Bu projede, **UNSW-NB15** siber güvenlik veri setini kullanarak denetimsiz öğrenme yöntemleriyle ağ saldırılarını anomali olarak tespit etmeyi amaçladık. Gerçek etiketleri kullanmadan, sadece veri yapısına dayalı olarak saldırıları tespit etmeye çalıştık.\n",
    "\n",
    "## Amaç\n",
    "- **DBSCAN** ve **Isolation Forest** algoritmalarını karşılaştırmak\n",
    "- Hangi yöntemin siber saldırı tespitinde daha etkili olduğunu belirlemek\n",
    "- Denetimsiz öğrenmenin anomali tespitindeki rolünü değerlendirmek\n",
    "\n",
    "\n",
    "### Model Performans Karşılaştırması\n",
    "\n",
    "| Metrik | DBSCAN | Isolation Forest |\n",
    "|--------|--------|------------------|\n",
    "| **Precision** | 0.296 | 0.258 |\n",
    "| **Recall** | 0.116 | 0.258 |\n",
    "| **F1-Score** | 0.167 | 0.258 |\n",
    "\n",
    "**DBSCAN:**\n",
    "-  Daha yüksek precision (0.296)\n",
    "-  Çok düşük recall (0.116)\n",
    "-  Normal trafik tespitinde başarılı (0.81)\n",
    "\n",
    "**Isolation Forest:**\n",
    "-  Daha dengeli precision/recall (0.258/0.258)\n",
    "-  Daha yüksek recall (0.258)\n",
    "-  Normal trafik tespitinde başarılı (0.81)\n",
    "\n",
    "**DBSCAN Kullanın Eğer:**\n",
    "- Düşük false positive oranı istiyorsanız\n",
    "- Precision önemliyse\n",
    "- Kümeleme tabanlı yaklaşım tercih ediyorsanız\n",
    "\n",
    "**Isolation Forest Kullanın Eğer:**\n",
    "- Daha fazla saldırı tespit etmek istiyorsanız\n",
    "- Recall önemliyse\n",
    "- Anomali tabanlı yaklaşım tercih ediyorsanız\n",
    "\n",
    "1. **Her iki model de** normal trafiği iyi tespit ediyor (0.81 precision)\n",
    "2. **Isolation Forest** saldırı tespitinde daha dengeli performans gösteriyor\n",
    "3. **DBSCAN** daha seçici, daha az ama daha doğru tespit yapıyor\n",
    "4. **Denetimsiz öğrenme** siber güvenlikte etkili bir yaklaşım sunuyor\n",
    "\n",
    "---\n"
   ]
  }
 ],
 "metadata": {
  "kernelspec": {
   "display_name": ".venv",
   "language": "python",
   "name": "python3"
  },
  "language_info": {
   "codemirror_mode": {
    "name": "ipython",
    "version": 3
   },
   "file_extension": ".py",
   "mimetype": "text/x-python",
   "name": "python",
   "nbconvert_exporter": "python",
   "pygments_lexer": "ipython3",
   "version": "3.10.6"
  }
 },
 "nbformat": 4,
 "nbformat_minor": 5
}
